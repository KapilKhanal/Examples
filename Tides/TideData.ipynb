{
 "cells": [
  {
   "cell_type": "code",
   "execution_count": null,
   "metadata": {},
   "outputs": [],
   "source": []
  },
  {
   "cell_type": "markdown",
   "metadata": {},
   "source": []
  },
  {
   "cell_type": "markdown",
   "metadata": {},
   "source": [
    "Data from https://tidesandcurrents.noaa.gov/waterlevels.html?id=9414290&units=standard&bdate=20190701&edate=20190801&timezone=GMT&datum=MLLW&interval=6&action=data"
   ]
  },
  {
   "cell_type": "code",
   "execution_count": 1,
   "metadata": {},
   "outputs": [],
   "source": [
    "import math\n",
    "import datetime\n",
    "import pytz\n",
    "import glob\n",
    "import functools\n",
    "import operator\n",
    "import numpy\n",
    "import pandas\n",
    "import matplotlib.pyplot\n",
    "import matplotlib.pylab\n",
    "import seaborn\n",
    "import sklearn.linear_model\n",
    "import sklearn.metrics\n",
    "import vtreat.cross_plan\n",
    "\n",
    "from pandas.plotting import register_matplotlib_converters\n",
    "register_matplotlib_converters()"
   ]
  },
  {
   "cell_type": "code",
   "execution_count": 2,
   "metadata": {},
   "outputs": [],
   "source": [
    "date_fmt = '%Y/%m/%d %H:%M'\n",
    "tz = pytz.utc\n",
    "\n",
    "def parse_date(dtstr):\n",
    "    d0 = datetime.datetime.strptime(dtstr, date_fmt)\n",
    "    return d0.replace(tzinfo=tz)\n",
    "    \n",
    "base_date_time = datetime.datetime(2001, 1, 1, tzinfo=tz)"
   ]
  },
  {
   "cell_type": "code",
   "execution_count": 3,
   "metadata": {},
   "outputs": [
    {
     "name": "stdout",
     "output_type": "stream",
     "text": [
      "TZ NAME: UTC\n"
     ]
    }
   ],
   "source": [
    "print(\"TZ NAME: {tz}\".format(tz=base_date_time.tzname()))"
   ]
  },
  {
   "cell_type": "code",
   "execution_count": 4,
   "metadata": {},
   "outputs": [
    {
     "name": "stdout",
     "output_type": "stream",
     "text": [
      "2001-01-01 00:00:00+00:00\n"
     ]
    }
   ],
   "source": [
    "print(base_date_time)"
   ]
  },
  {
   "cell_type": "code",
   "execution_count": 5,
   "metadata": {},
   "outputs": [
    {
     "data": {
      "text/html": [
       "<div>\n",
       "<style scoped>\n",
       "    .dataframe tbody tr th:only-of-type {\n",
       "        vertical-align: middle;\n",
       "    }\n",
       "\n",
       "    .dataframe tbody tr th {\n",
       "        vertical-align: top;\n",
       "    }\n",
       "\n",
       "    .dataframe thead th {\n",
       "        text-align: right;\n",
       "    }\n",
       "</style>\n",
       "<table border=\"1\" class=\"dataframe\">\n",
       "  <thead>\n",
       "    <tr style=\"text-align: right;\">\n",
       "      <th></th>\n",
       "      <th>Date</th>\n",
       "      <th>Time (GMT)</th>\n",
       "      <th>Predicted (ft)</th>\n",
       "      <th>Preliminary (ft)</th>\n",
       "      <th>Verified (ft)</th>\n",
       "    </tr>\n",
       "  </thead>\n",
       "  <tbody>\n",
       "    <tr>\n",
       "      <th>0</th>\n",
       "      <td>2017/01/01</td>\n",
       "      <td>00:00</td>\n",
       "      <td>1.849</td>\n",
       "      <td>NaN</td>\n",
       "      <td>2.12</td>\n",
       "    </tr>\n",
       "    <tr>\n",
       "      <th>1</th>\n",
       "      <td>2017/01/01</td>\n",
       "      <td>00:06</td>\n",
       "      <td>1.695</td>\n",
       "      <td>NaN</td>\n",
       "      <td>1.97</td>\n",
       "    </tr>\n",
       "    <tr>\n",
       "      <th>2</th>\n",
       "      <td>2017/01/01</td>\n",
       "      <td>00:12</td>\n",
       "      <td>1.543</td>\n",
       "      <td>NaN</td>\n",
       "      <td>1.88</td>\n",
       "    </tr>\n",
       "    <tr>\n",
       "      <th>3</th>\n",
       "      <td>2017/01/01</td>\n",
       "      <td>00:18</td>\n",
       "      <td>1.393</td>\n",
       "      <td>NaN</td>\n",
       "      <td>1.78</td>\n",
       "    </tr>\n",
       "    <tr>\n",
       "      <th>4</th>\n",
       "      <td>2017/01/01</td>\n",
       "      <td>00:24</td>\n",
       "      <td>1.247</td>\n",
       "      <td>NaN</td>\n",
       "      <td>1.66</td>\n",
       "    </tr>\n",
       "  </tbody>\n",
       "</table>\n",
       "</div>"
      ],
      "text/plain": [
       "         Date Time (GMT)  Predicted (ft)  Preliminary (ft)  Verified (ft)\n",
       "0  2017/01/01      00:00           1.849               NaN           2.12\n",
       "1  2017/01/01      00:06           1.695               NaN           1.97\n",
       "2  2017/01/01      00:12           1.543               NaN           1.88\n",
       "3  2017/01/01      00:18           1.393               NaN           1.78\n",
       "4  2017/01/01      00:24           1.247               NaN           1.66"
      ]
     },
     "execution_count": 5,
     "metadata": {},
     "output_type": "execute_result"
    }
   ],
   "source": [
    "na_values = [ '', '-' ]\n",
    "files = [f for f in glob.glob(\"tide_data/*.csv\", recursive=False)]\n",
    "files.sort()\n",
    "tides = [pandas.read_csv(f, na_values=na_values) for f in files]\n",
    "tides = pandas.concat(tides, axis=0)\n",
    "tides.reset_index(inplace=True, drop=True)\n",
    "tides.head()"
   ]
  },
  {
   "cell_type": "code",
   "execution_count": 6,
   "metadata": {},
   "outputs": [
    {
     "data": {
      "text/plain": [
       "0.0"
      ]
     },
     "execution_count": 6,
     "metadata": {},
     "output_type": "execute_result"
    }
   ],
   "source": [
    "d0 = parse_date('2001/01/01 00:00')\n",
    "(d0 - base_date_time).total_seconds()"
   ]
  },
  {
   "cell_type": "code",
   "execution_count": 7,
   "metadata": {},
   "outputs": [
    {
     "name": "stdout",
     "output_type": "stream",
     "text": [
      "TZ NAME: UTC\n"
     ]
    }
   ],
   "source": [
    "print(\"TZ NAME: {tz}\".format(tz=d0.tzname()))"
   ]
  },
  {
   "cell_type": "code",
   "execution_count": 8,
   "metadata": {},
   "outputs": [],
   "source": [
    "tides['dt'] = [parse_date(tides['Date'][i] + ' ' + tides['Time (GMT)'][i]) for i in range(tides.shape[0])]\n",
    "tides['dts'] = [(t - base_date_time).total_seconds() for t in tides['dt']]"
   ]
  },
  {
   "cell_type": "code",
   "execution_count": 9,
   "metadata": {},
   "outputs": [],
   "source": [
    "tides['tide feet'] = tides['Verified (ft)'].copy()\n",
    "null_posns = pandas.isnull(tides['tide feet'])\n",
    "tides.loc[null_posns, 'tide feet'] = tides.loc[null_posns, 'Preliminary (ft)']"
   ]
  },
  {
   "cell_type": "code",
   "execution_count": 10,
   "metadata": {},
   "outputs": [
    {
     "data": {
      "text/html": [
       "<div>\n",
       "<style scoped>\n",
       "    .dataframe tbody tr th:only-of-type {\n",
       "        vertical-align: middle;\n",
       "    }\n",
       "\n",
       "    .dataframe tbody tr th {\n",
       "        vertical-align: top;\n",
       "    }\n",
       "\n",
       "    .dataframe thead th {\n",
       "        text-align: right;\n",
       "    }\n",
       "</style>\n",
       "<table border=\"1\" class=\"dataframe\">\n",
       "  <thead>\n",
       "    <tr style=\"text-align: right;\">\n",
       "      <th></th>\n",
       "      <th>Date</th>\n",
       "      <th>Time (GMT)</th>\n",
       "      <th>Predicted (ft)</th>\n",
       "      <th>Preliminary (ft)</th>\n",
       "      <th>Verified (ft)</th>\n",
       "      <th>dt</th>\n",
       "      <th>dts</th>\n",
       "      <th>tide feet</th>\n",
       "    </tr>\n",
       "  </thead>\n",
       "  <tbody>\n",
       "    <tr>\n",
       "      <th>0</th>\n",
       "      <td>2017/01/01</td>\n",
       "      <td>00:00</td>\n",
       "      <td>1.849</td>\n",
       "      <td>NaN</td>\n",
       "      <td>2.12</td>\n",
       "      <td>2017-01-01 00:00:00+00:00</td>\n",
       "      <td>504921600.0</td>\n",
       "      <td>2.12</td>\n",
       "    </tr>\n",
       "    <tr>\n",
       "      <th>1</th>\n",
       "      <td>2017/01/01</td>\n",
       "      <td>00:06</td>\n",
       "      <td>1.695</td>\n",
       "      <td>NaN</td>\n",
       "      <td>1.97</td>\n",
       "      <td>2017-01-01 00:06:00+00:00</td>\n",
       "      <td>504921960.0</td>\n",
       "      <td>1.97</td>\n",
       "    </tr>\n",
       "    <tr>\n",
       "      <th>2</th>\n",
       "      <td>2017/01/01</td>\n",
       "      <td>00:12</td>\n",
       "      <td>1.543</td>\n",
       "      <td>NaN</td>\n",
       "      <td>1.88</td>\n",
       "      <td>2017-01-01 00:12:00+00:00</td>\n",
       "      <td>504922320.0</td>\n",
       "      <td>1.88</td>\n",
       "    </tr>\n",
       "    <tr>\n",
       "      <th>3</th>\n",
       "      <td>2017/01/01</td>\n",
       "      <td>00:18</td>\n",
       "      <td>1.393</td>\n",
       "      <td>NaN</td>\n",
       "      <td>1.78</td>\n",
       "      <td>2017-01-01 00:18:00+00:00</td>\n",
       "      <td>504922680.0</td>\n",
       "      <td>1.78</td>\n",
       "    </tr>\n",
       "    <tr>\n",
       "      <th>4</th>\n",
       "      <td>2017/01/01</td>\n",
       "      <td>00:24</td>\n",
       "      <td>1.247</td>\n",
       "      <td>NaN</td>\n",
       "      <td>1.66</td>\n",
       "      <td>2017-01-01 00:24:00+00:00</td>\n",
       "      <td>504923040.0</td>\n",
       "      <td>1.66</td>\n",
       "    </tr>\n",
       "  </tbody>\n",
       "</table>\n",
       "</div>"
      ],
      "text/plain": [
       "         Date Time (GMT)  Predicted (ft)  Preliminary (ft)  Verified (ft)  \\\n",
       "0  2017/01/01      00:00           1.849               NaN           2.12   \n",
       "1  2017/01/01      00:06           1.695               NaN           1.97   \n",
       "2  2017/01/01      00:12           1.543               NaN           1.88   \n",
       "3  2017/01/01      00:18           1.393               NaN           1.78   \n",
       "4  2017/01/01      00:24           1.247               NaN           1.66   \n",
       "\n",
       "                         dt          dts  tide feet  \n",
       "0 2017-01-01 00:00:00+00:00  504921600.0       2.12  \n",
       "1 2017-01-01 00:06:00+00:00  504921960.0       1.97  \n",
       "2 2017-01-01 00:12:00+00:00  504922320.0       1.88  \n",
       "3 2017-01-01 00:18:00+00:00  504922680.0       1.78  \n",
       "4 2017-01-01 00:24:00+00:00  504923040.0       1.66  "
      ]
     },
     "execution_count": 10,
     "metadata": {},
     "output_type": "execute_result"
    }
   ],
   "source": [
    "tides.head()"
   ]
  },
  {
   "cell_type": "code",
   "execution_count": 11,
   "metadata": {},
   "outputs": [
    {
     "data": {
      "text/plain": [
       "3.354944709837226"
      ]
     },
     "execution_count": 11,
     "metadata": {},
     "output_type": "execute_result"
    }
   ],
   "source": [
    "numpy.mean(tides['tide feet'])"
   ]
  },
  {
   "cell_type": "code",
   "execution_count": 12,
   "metadata": {},
   "outputs": [],
   "source": [
    "deltas = [tides['dts'][i+1] - tides['dts'][i] for i in range(tides.shape[0]-1)]"
   ]
  },
  {
   "cell_type": "code",
   "execution_count": 13,
   "metadata": {},
   "outputs": [
    {
     "data": {
      "text/plain": [
       "360.0"
      ]
     },
     "execution_count": 13,
     "metadata": {},
     "output_type": "execute_result"
    }
   ],
   "source": [
    "max(deltas)"
   ]
  },
  {
   "cell_type": "code",
   "execution_count": 14,
   "metadata": {},
   "outputs": [
    {
     "data": {
      "text/plain": [
       "360.0"
      ]
     },
     "execution_count": 14,
     "metadata": {},
     "output_type": "execute_result"
    }
   ],
   "source": [
    "min(deltas)"
   ]
  },
  {
   "cell_type": "code",
   "execution_count": 15,
   "metadata": {},
   "outputs": [],
   "source": [
    "tides.to_pickle('tides.pickle.gz')"
   ]
  },
  {
   "cell_type": "code",
   "execution_count": null,
   "metadata": {},
   "outputs": [],
   "source": []
  }
 ],
 "metadata": {
  "kernelspec": {
   "display_name": "Python 3",
   "language": "python",
   "name": "python3"
  },
  "language_info": {
   "codemirror_mode": {
    "name": "ipython",
    "version": 3
   },
   "file_extension": ".py",
   "mimetype": "text/x-python",
   "name": "python",
   "nbconvert_exporter": "python",
   "pygments_lexer": "ipython3",
   "version": "3.7.3"
  }
 },
 "nbformat": 4,
 "nbformat_minor": 4
}
