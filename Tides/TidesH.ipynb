{
 "cells": [
  {
   "cell_type": "code",
   "execution_count": null,
   "metadata": {},
   "outputs": [],
   "source": []
  },
  {
   "cell_type": "markdown",
   "metadata": {},
   "source": [
    "Pre-stored harmonics to fit tide data."
   ]
  },
  {
   "cell_type": "markdown",
   "metadata": {},
   "source": [
    "Data from https://tidesandcurrents.noaa.gov/waterlevels.html?id=9414290&units=standard&bdate=20190701&edate=20190801&timezone=GMT&datum=MLLW&interval=6&action=data"
   ]
  },
  {
   "cell_type": "code",
   "execution_count": 1,
   "metadata": {},
   "outputs": [],
   "source": [
    "import math\n",
    "import datetime\n",
    "import pytz\n",
    "import glob\n",
    "import functools\n",
    "import operator\n",
    "import numpy\n",
    "import pandas\n",
    "import matplotlib.pyplot\n",
    "import matplotlib.pylab\n",
    "import seaborn\n",
    "import sklearn.linear_model\n",
    "import sklearn.metrics\n",
    "import vtreat.cross_plan\n",
    "\n",
    "from pandas.plotting import register_matplotlib_converters\n",
    "register_matplotlib_converters()"
   ]
  },
  {
   "cell_type": "code",
   "execution_count": 2,
   "metadata": {},
   "outputs": [
    {
     "data": {
      "text/html": [
       "<div>\n",
       "<style scoped>\n",
       "    .dataframe tbody tr th:only-of-type {\n",
       "        vertical-align: middle;\n",
       "    }\n",
       "\n",
       "    .dataframe tbody tr th {\n",
       "        vertical-align: top;\n",
       "    }\n",
       "\n",
       "    .dataframe thead th {\n",
       "        text-align: right;\n",
       "    }\n",
       "</style>\n",
       "<table border=\"1\" class=\"dataframe\">\n",
       "  <thead>\n",
       "    <tr style=\"text-align: right;\">\n",
       "      <th></th>\n",
       "      <th>name</th>\n",
       "      <th>sname</th>\n",
       "      <th>speed</th>\n",
       "      <th>code</th>\n",
       "      <th>i1</th>\n",
       "      <th>i2</th>\n",
       "      <th>i3</th>\n",
       "      <th>i4</th>\n",
       "      <th>i5</th>\n",
       "      <th>i6</th>\n",
       "      <th>phi</th>\n",
       "      <th>nodal</th>\n",
       "      <th>in_hc4</th>\n",
       "      <th>in_hc7</th>\n",
       "      <th>in_hc37</th>\n",
       "      <th>in_hc60</th>\n",
       "      <th>in_hc114</th>\n",
       "    </tr>\n",
       "  </thead>\n",
       "  <tbody>\n",
       "    <tr>\n",
       "      <th>0</th>\n",
       "      <td>aSa</td>\n",
       "      <td>aSa</td>\n",
       "      <td>0.041067</td>\n",
       "      <td>ZZAZZYZ</td>\n",
       "      <td>0</td>\n",
       "      <td>0</td>\n",
       "      <td>1</td>\n",
       "      <td>0</td>\n",
       "      <td>0</td>\n",
       "      <td>-1</td>\n",
       "      <td>0</td>\n",
       "      <td>z</td>\n",
       "      <td>False</td>\n",
       "      <td>False</td>\n",
       "      <td>False</td>\n",
       "      <td>False</td>\n",
       "      <td>False</td>\n",
       "    </tr>\n",
       "    <tr>\n",
       "      <th>1</th>\n",
       "      <td>Sa</td>\n",
       "      <td>Sa</td>\n",
       "      <td>0.041069</td>\n",
       "      <td>ZZAZZZZ</td>\n",
       "      <td>0</td>\n",
       "      <td>0</td>\n",
       "      <td>1</td>\n",
       "      <td>0</td>\n",
       "      <td>0</td>\n",
       "      <td>0</td>\n",
       "      <td>0</td>\n",
       "      <td>z</td>\n",
       "      <td>False</td>\n",
       "      <td>False</td>\n",
       "      <td>True</td>\n",
       "      <td>True</td>\n",
       "      <td>True</td>\n",
       "    </tr>\n",
       "    <tr>\n",
       "      <th>2</th>\n",
       "      <td>Ssa</td>\n",
       "      <td>Ssa</td>\n",
       "      <td>0.082137</td>\n",
       "      <td>ZZBZZZZ</td>\n",
       "      <td>0</td>\n",
       "      <td>0</td>\n",
       "      <td>2</td>\n",
       "      <td>0</td>\n",
       "      <td>0</td>\n",
       "      <td>0</td>\n",
       "      <td>0</td>\n",
       "      <td>z</td>\n",
       "      <td>False</td>\n",
       "      <td>False</td>\n",
       "      <td>True</td>\n",
       "      <td>True</td>\n",
       "      <td>True</td>\n",
       "    </tr>\n",
       "    <tr>\n",
       "      <th>3</th>\n",
       "      <td>Sta</td>\n",
       "      <td>Sta</td>\n",
       "      <td>0.123204</td>\n",
       "      <td>ZZCZZYY</td>\n",
       "      <td>0</td>\n",
       "      <td>0</td>\n",
       "      <td>3</td>\n",
       "      <td>0</td>\n",
       "      <td>0</td>\n",
       "      <td>-1</td>\n",
       "      <td>270</td>\n",
       "      <td>x</td>\n",
       "      <td>False</td>\n",
       "      <td>False</td>\n",
       "      <td>False</td>\n",
       "      <td>False</td>\n",
       "      <td>False</td>\n",
       "    </tr>\n",
       "    <tr>\n",
       "      <th>4</th>\n",
       "      <td>MSm</td>\n",
       "      <td>MSm</td>\n",
       "      <td>0.471521</td>\n",
       "      <td>ZAXAZZZ</td>\n",
       "      <td>0</td>\n",
       "      <td>1</td>\n",
       "      <td>-2</td>\n",
       "      <td>1</td>\n",
       "      <td>0</td>\n",
       "      <td>0</td>\n",
       "      <td>0</td>\n",
       "      <td>x</td>\n",
       "      <td>False</td>\n",
       "      <td>False</td>\n",
       "      <td>False</td>\n",
       "      <td>False</td>\n",
       "      <td>False</td>\n",
       "    </tr>\n",
       "  </tbody>\n",
       "</table>\n",
       "</div>"
      ],
      "text/plain": [
       "  name sname     speed     code  i1  i2  i3  i4  i5  i6  phi nodal  in_hc4  \\\n",
       "0  aSa   aSa  0.041067  ZZAZZYZ   0   0   1   0   0  -1    0     z   False   \n",
       "1   Sa    Sa  0.041069  ZZAZZZZ   0   0   1   0   0   0    0     z   False   \n",
       "2  Ssa   Ssa  0.082137  ZZBZZZZ   0   0   2   0   0   0    0     z   False   \n",
       "3  Sta   Sta  0.123204  ZZCZZYY   0   0   3   0   0  -1  270     x   False   \n",
       "4  MSm   MSm  0.471521  ZAXAZZZ   0   1  -2   1   0   0    0     x   False   \n",
       "\n",
       "   in_hc7  in_hc37  in_hc60  in_hc114  \n",
       "0   False    False    False     False  \n",
       "1   False     True     True      True  \n",
       "2   False     True     True      True  \n",
       "3   False    False    False     False  \n",
       "4   False    False    False     False  "
      ]
     },
     "execution_count": 2,
     "metadata": {},
     "output_type": "execute_result"
    }
   ],
   "source": [
    "harmonics = pandas.read_csv('harmonics.csv')\n",
    "harmonics.head()"
   ]
  },
  {
   "cell_type": "markdown",
   "metadata": {},
   "source": [
    "From: https://cran.r-project.org/web/packages/TideHarmonics/TideHarmonics.pdf\n",
    "\n",
    "> The speed (angular frequency) in degrees per hour. Derived from the Doodson number. To calculate the period in hours, divide 360 by the speed."
   ]
  },
  {
   "cell_type": "code",
   "execution_count": 3,
   "metadata": {},
   "outputs": [
    {
     "data": {
      "text/html": [
       "<div>\n",
       "<style scoped>\n",
       "    .dataframe tbody tr th:only-of-type {\n",
       "        vertical-align: middle;\n",
       "    }\n",
       "\n",
       "    .dataframe tbody tr th {\n",
       "        vertical-align: top;\n",
       "    }\n",
       "\n",
       "    .dataframe thead th {\n",
       "        text-align: right;\n",
       "    }\n",
       "</style>\n",
       "<table border=\"1\" class=\"dataframe\">\n",
       "  <thead>\n",
       "    <tr style=\"text-align: right;\">\n",
       "      <th></th>\n",
       "      <th>name</th>\n",
       "      <th>sname</th>\n",
       "      <th>speed</th>\n",
       "      <th>code</th>\n",
       "      <th>i1</th>\n",
       "      <th>i2</th>\n",
       "      <th>i3</th>\n",
       "      <th>i4</th>\n",
       "      <th>i5</th>\n",
       "      <th>i6</th>\n",
       "      <th>phi</th>\n",
       "      <th>nodal</th>\n",
       "      <th>in_hc4</th>\n",
       "      <th>in_hc7</th>\n",
       "      <th>in_hc37</th>\n",
       "      <th>in_hc60</th>\n",
       "      <th>in_hc114</th>\n",
       "      <th>period_seconds</th>\n",
       "      <th>period_days</th>\n",
       "    </tr>\n",
       "  </thead>\n",
       "  <tbody>\n",
       "    <tr>\n",
       "      <th>0</th>\n",
       "      <td>aSa</td>\n",
       "      <td>aSa</td>\n",
       "      <td>0.041067</td>\n",
       "      <td>ZZAZZYZ</td>\n",
       "      <td>0</td>\n",
       "      <td>0</td>\n",
       "      <td>1</td>\n",
       "      <td>0</td>\n",
       "      <td>0</td>\n",
       "      <td>-1</td>\n",
       "      <td>0</td>\n",
       "      <td>z</td>\n",
       "      <td>False</td>\n",
       "      <td>False</td>\n",
       "      <td>False</td>\n",
       "      <td>False</td>\n",
       "      <td>False</td>\n",
       "      <td>3.155844e+07</td>\n",
       "      <td>365.259722</td>\n",
       "    </tr>\n",
       "    <tr>\n",
       "      <th>1</th>\n",
       "      <td>Sa</td>\n",
       "      <td>Sa</td>\n",
       "      <td>0.041069</td>\n",
       "      <td>ZZAZZZZ</td>\n",
       "      <td>0</td>\n",
       "      <td>0</td>\n",
       "      <td>1</td>\n",
       "      <td>0</td>\n",
       "      <td>0</td>\n",
       "      <td>0</td>\n",
       "      <td>0</td>\n",
       "      <td>z</td>\n",
       "      <td>False</td>\n",
       "      <td>False</td>\n",
       "      <td>True</td>\n",
       "      <td>True</td>\n",
       "      <td>True</td>\n",
       "      <td>3.155693e+07</td>\n",
       "      <td>365.242279</td>\n",
       "    </tr>\n",
       "    <tr>\n",
       "      <th>2</th>\n",
       "      <td>Ssa</td>\n",
       "      <td>Ssa</td>\n",
       "      <td>0.082137</td>\n",
       "      <td>ZZBZZZZ</td>\n",
       "      <td>0</td>\n",
       "      <td>0</td>\n",
       "      <td>2</td>\n",
       "      <td>0</td>\n",
       "      <td>0</td>\n",
       "      <td>0</td>\n",
       "      <td>0</td>\n",
       "      <td>z</td>\n",
       "      <td>False</td>\n",
       "      <td>False</td>\n",
       "      <td>True</td>\n",
       "      <td>True</td>\n",
       "      <td>True</td>\n",
       "      <td>1.577847e+07</td>\n",
       "      <td>182.621139</td>\n",
       "    </tr>\n",
       "    <tr>\n",
       "      <th>3</th>\n",
       "      <td>Sta</td>\n",
       "      <td>Sta</td>\n",
       "      <td>0.123204</td>\n",
       "      <td>ZZCZZYY</td>\n",
       "      <td>0</td>\n",
       "      <td>0</td>\n",
       "      <td>3</td>\n",
       "      <td>0</td>\n",
       "      <td>0</td>\n",
       "      <td>-1</td>\n",
       "      <td>270</td>\n",
       "      <td>x</td>\n",
       "      <td>False</td>\n",
       "      <td>False</td>\n",
       "      <td>False</td>\n",
       "      <td>False</td>\n",
       "      <td>False</td>\n",
       "      <td>1.051915e+07</td>\n",
       "      <td>121.749364</td>\n",
       "    </tr>\n",
       "    <tr>\n",
       "      <th>4</th>\n",
       "      <td>MSm</td>\n",
       "      <td>MSm</td>\n",
       "      <td>0.471521</td>\n",
       "      <td>ZAXAZZZ</td>\n",
       "      <td>0</td>\n",
       "      <td>1</td>\n",
       "      <td>-2</td>\n",
       "      <td>1</td>\n",
       "      <td>0</td>\n",
       "      <td>0</td>\n",
       "      <td>0</td>\n",
       "      <td>x</td>\n",
       "      <td>False</td>\n",
       "      <td>False</td>\n",
       "      <td>False</td>\n",
       "      <td>False</td>\n",
       "      <td>False</td>\n",
       "      <td>2.748551e+06</td>\n",
       "      <td>31.811937</td>\n",
       "    </tr>\n",
       "  </tbody>\n",
       "</table>\n",
       "</div>"
      ],
      "text/plain": [
       "  name sname     speed     code  i1  i2  i3  i4  i5  i6  phi nodal  in_hc4  \\\n",
       "0  aSa   aSa  0.041067  ZZAZZYZ   0   0   1   0   0  -1    0     z   False   \n",
       "1   Sa    Sa  0.041069  ZZAZZZZ   0   0   1   0   0   0    0     z   False   \n",
       "2  Ssa   Ssa  0.082137  ZZBZZZZ   0   0   2   0   0   0    0     z   False   \n",
       "3  Sta   Sta  0.123204  ZZCZZYY   0   0   3   0   0  -1  270     x   False   \n",
       "4  MSm   MSm  0.471521  ZAXAZZZ   0   1  -2   1   0   0    0     x   False   \n",
       "\n",
       "   in_hc7  in_hc37  in_hc60  in_hc114  period_seconds  period_days  \n",
       "0   False    False    False     False    3.155844e+07   365.259722  \n",
       "1   False     True     True      True    3.155693e+07   365.242279  \n",
       "2   False     True     True      True    1.577847e+07   182.621139  \n",
       "3   False    False    False     False    1.051915e+07   121.749364  \n",
       "4   False    False    False     False    2.748551e+06    31.811937  "
      ]
     },
     "execution_count": 3,
     "metadata": {},
     "output_type": "execute_result"
    }
   ],
   "source": [
    "harmonics['period_seconds'] = (360/harmonics['speed'])*60*60\n",
    "harmonics['period_days'] = harmonics['period_seconds']/86400\n",
    "harmonics.head()"
   ]
  },
  {
   "cell_type": "code",
   "execution_count": 4,
   "metadata": {},
   "outputs": [
    {
     "data": {
      "text/plain": [
       "array([1.45509677e+04, 1.45643990e+04, 1.47188519e+04, 1.47325952e+04,\n",
       "       1.48243327e+04, 1.49047215e+04, 1.49986220e+04, 2.15704711e+04,\n",
       "       2.16000000e+04, 2.19414672e+04, 2.19720214e+04, 2.21766940e+04,\n",
       "       2.23570822e+04, 2.25690260e+04, 2.87737401e+04, 2.94377039e+04,\n",
       "       2.94927281e+04, 2.98094429e+04, 3.01906907e+04, 4.17850258e+04,\n",
       "       4.23162784e+04, 4.24300716e+04, 4.30820454e+04, 4.31409449e+04,\n",
       "       4.32000001e+04, 4.32592172e+04, 4.38898329e+04, 4.39983869e+04,\n",
       "       4.45878082e+04, 4.47141644e+04, 4.48412388e+04, 4.54536159e+04,\n",
       "       4.55700536e+04, 4.63383274e+04, 4.64593479e+04, 4.72581626e+04,\n",
       "       4.74001310e+04, 8.03018676e+04, 8.07126411e+04, 8.31545168e+04,\n",
       "       8.35450446e+04, 8.56961158e+04, 8.59294773e+04, 8.61640908e+04,\n",
       "       8.64000002e+04, 8.66372049e+04, 8.68757043e+04, 8.89526598e+04,\n",
       "       8.94283288e+04, 9.24052782e+04, 9.29496300e+04, 9.62029920e+04,\n",
       "       9.67260835e+04, 1.00254195e+05, 1.00822400e+05, 1.18029240e+06,\n",
       "       1.27572146e+06, 2.38071348e+06, 1.57784664e+07, 3.15569329e+07])"
      ]
     },
     "execution_count": 4,
     "metadata": {},
     "output_type": "execute_result"
    }
   ],
   "source": [
    "periods_seconds = harmonics['period_seconds'][harmonics['in_hc60']]\n",
    "periods_seconds = numpy.sort(numpy.unique(numpy.asarray(periods_seconds)))\n",
    "periods_seconds"
   ]
  },
  {
   "cell_type": "code",
   "execution_count": 5,
   "metadata": {},
   "outputs": [],
   "source": [
    "date_fmt = '%Y/%m/%d %H:%M'\n",
    "tz = pytz.utc\n",
    "    \n",
    "def parse_date(dtstr):\n",
    "    d0 = datetime.datetime.strptime(dtstr, date_fmt)\n",
    "    return d0.replace(tzinfo=tz)\n",
    "\n",
    "base_date_time = datetime.datetime(2001, 1, 1, tzinfo=tz)\n",
    "first_date_time = datetime.datetime(2019, 6, 1, tzinfo=tz)\n",
    "cut_date_time = datetime.datetime(2019, 7, 15, tzinfo=tz)"
   ]
  },
  {
   "cell_type": "code",
   "execution_count": 6,
   "metadata": {},
   "outputs": [
    {
     "name": "stdout",
     "output_type": "stream",
     "text": [
      "TZ NAME: UTC\n"
     ]
    }
   ],
   "source": [
    "print(\"TZ NAME: {tz}\".format(tz=base_date_time.tzname()))"
   ]
  },
  {
   "cell_type": "code",
   "execution_count": 7,
   "metadata": {},
   "outputs": [
    {
     "data": {
      "text/plain": [
       "0.0"
      ]
     },
     "execution_count": 7,
     "metadata": {},
     "output_type": "execute_result"
    }
   ],
   "source": [
    "d0 = parse_date('2001/01/01 00:00')\n",
    "(d0 - base_date_time).total_seconds()"
   ]
  },
  {
   "cell_type": "code",
   "execution_count": 8,
   "metadata": {},
   "outputs": [
    {
     "name": "stdout",
     "output_type": "stream",
     "text": [
      "TZ NAME: UTC\n"
     ]
    }
   ],
   "source": [
    "print(\"TZ NAME: {tz}\".format(tz=d0.tzname()))"
   ]
  },
  {
   "cell_type": "code",
   "execution_count": 9,
   "metadata": {},
   "outputs": [],
   "source": [
    "tides = pandas.read_pickle('tides.pickle.gz')"
   ]
  },
  {
   "cell_type": "code",
   "execution_count": 10,
   "metadata": {},
   "outputs": [],
   "source": [
    "tides['train'] = tides['dt']<cut_date_time"
   ]
  },
  {
   "cell_type": "code",
   "execution_count": 11,
   "metadata": {},
   "outputs": [
    {
     "data": {
      "text/html": [
       "<div>\n",
       "<style scoped>\n",
       "    .dataframe tbody tr th:only-of-type {\n",
       "        vertical-align: middle;\n",
       "    }\n",
       "\n",
       "    .dataframe tbody tr th {\n",
       "        vertical-align: top;\n",
       "    }\n",
       "\n",
       "    .dataframe thead th {\n",
       "        text-align: right;\n",
       "    }\n",
       "</style>\n",
       "<table border=\"1\" class=\"dataframe\">\n",
       "  <thead>\n",
       "    <tr style=\"text-align: right;\">\n",
       "      <th></th>\n",
       "      <th>Date</th>\n",
       "      <th>Time (GMT)</th>\n",
       "      <th>Predicted (ft)</th>\n",
       "      <th>Preliminary (ft)</th>\n",
       "      <th>Verified (ft)</th>\n",
       "      <th>dt</th>\n",
       "      <th>dts</th>\n",
       "      <th>tide feet</th>\n",
       "      <th>train</th>\n",
       "    </tr>\n",
       "  </thead>\n",
       "  <tbody>\n",
       "    <tr>\n",
       "      <th>0</th>\n",
       "      <td>2017/01/01</td>\n",
       "      <td>00:00</td>\n",
       "      <td>1.849</td>\n",
       "      <td>NaN</td>\n",
       "      <td>2.12</td>\n",
       "      <td>2017-01-01 00:00:00+00:00</td>\n",
       "      <td>504921600.0</td>\n",
       "      <td>2.12</td>\n",
       "      <td>True</td>\n",
       "    </tr>\n",
       "    <tr>\n",
       "      <th>1</th>\n",
       "      <td>2017/01/01</td>\n",
       "      <td>00:06</td>\n",
       "      <td>1.695</td>\n",
       "      <td>NaN</td>\n",
       "      <td>1.97</td>\n",
       "      <td>2017-01-01 00:06:00+00:00</td>\n",
       "      <td>504921960.0</td>\n",
       "      <td>1.97</td>\n",
       "      <td>True</td>\n",
       "    </tr>\n",
       "    <tr>\n",
       "      <th>2</th>\n",
       "      <td>2017/01/01</td>\n",
       "      <td>00:12</td>\n",
       "      <td>1.543</td>\n",
       "      <td>NaN</td>\n",
       "      <td>1.88</td>\n",
       "      <td>2017-01-01 00:12:00+00:00</td>\n",
       "      <td>504922320.0</td>\n",
       "      <td>1.88</td>\n",
       "      <td>True</td>\n",
       "    </tr>\n",
       "    <tr>\n",
       "      <th>3</th>\n",
       "      <td>2017/01/01</td>\n",
       "      <td>00:18</td>\n",
       "      <td>1.393</td>\n",
       "      <td>NaN</td>\n",
       "      <td>1.78</td>\n",
       "      <td>2017-01-01 00:18:00+00:00</td>\n",
       "      <td>504922680.0</td>\n",
       "      <td>1.78</td>\n",
       "      <td>True</td>\n",
       "    </tr>\n",
       "    <tr>\n",
       "      <th>4</th>\n",
       "      <td>2017/01/01</td>\n",
       "      <td>00:24</td>\n",
       "      <td>1.247</td>\n",
       "      <td>NaN</td>\n",
       "      <td>1.66</td>\n",
       "      <td>2017-01-01 00:24:00+00:00</td>\n",
       "      <td>504923040.0</td>\n",
       "      <td>1.66</td>\n",
       "      <td>True</td>\n",
       "    </tr>\n",
       "  </tbody>\n",
       "</table>\n",
       "</div>"
      ],
      "text/plain": [
       "         Date Time (GMT)  Predicted (ft)  Preliminary (ft)  Verified (ft)  \\\n",
       "0  2017/01/01      00:00           1.849               NaN           2.12   \n",
       "1  2017/01/01      00:06           1.695               NaN           1.97   \n",
       "2  2017/01/01      00:12           1.543               NaN           1.88   \n",
       "3  2017/01/01      00:18           1.393               NaN           1.78   \n",
       "4  2017/01/01      00:24           1.247               NaN           1.66   \n",
       "\n",
       "                         dt          dts  tide feet  train  \n",
       "0 2017-01-01 00:00:00+00:00  504921600.0       2.12   True  \n",
       "1 2017-01-01 00:06:00+00:00  504921960.0       1.97   True  \n",
       "2 2017-01-01 00:12:00+00:00  504922320.0       1.88   True  \n",
       "3 2017-01-01 00:18:00+00:00  504922680.0       1.78   True  \n",
       "4 2017-01-01 00:24:00+00:00  504923040.0       1.66   True  "
      ]
     },
     "execution_count": 11,
     "metadata": {},
     "output_type": "execute_result"
    }
   ],
   "source": [
    "tides.head()"
   ]
  },
  {
   "cell_type": "code",
   "execution_count": 12,
   "metadata": {},
   "outputs": [],
   "source": [
    "dtrain = tides.loc[tides['train'], :].copy()\n",
    "dtrain.reset_index(inplace=True, drop=True)"
   ]
  },
  {
   "cell_type": "code",
   "execution_count": 13,
   "metadata": {},
   "outputs": [],
   "source": [
    "vars = []\n",
    "for ps in periods_seconds:\n",
    "    vs = 'sin(second/' + str(ps) + ')'\n",
    "    dtrain[vs] = numpy.sin(2*numpy.pi*dtrain['dts']/ps)\n",
    "    tides[vs] = numpy.sin(2*numpy.pi*tides['dts']/ps)\n",
    "    vc = 'cos(second/' + str(ps) + ')'\n",
    "    dtrain[vc] = numpy.cos(2*numpy.pi*dtrain['dts']/ps)\n",
    "    tides[vc] = numpy.cos(2*numpy.pi*tides['dts']/ps)\n",
    "    vars = vars + [vs, vc]\n",
    "    "
   ]
  },
  {
   "cell_type": "code",
   "execution_count": 14,
   "metadata": {},
   "outputs": [
    {
     "data": {
      "text/plain": [
       "ElasticNet(alpha=0.0001, copy_X=True, fit_intercept=True, l1_ratio=0.5,\n",
       "           max_iter=10000, normalize=False, positive=False, precompute=False,\n",
       "           random_state=None, selection='cyclic', tol=0.0001, warm_start=False)"
      ]
     },
     "execution_count": 14,
     "metadata": {},
     "output_type": "execute_result"
    }
   ],
   "source": [
    "fitter = sklearn.linear_model.ElasticNet(fit_intercept=True, \n",
    "                                         alpha = 1e-4,\n",
    "                                         max_iter=10000)\n",
    "fitter.fit(dtrain[vars], dtrain['tide feet'])\n",
    "#fitter.coef_"
   ]
  },
  {
   "cell_type": "code",
   "execution_count": 15,
   "metadata": {},
   "outputs": [],
   "source": [
    "dtrain['predict'] = fitter.predict(dtrain[vars])"
   ]
  },
  {
   "cell_type": "markdown",
   "metadata": {},
   "source": [
    "Now try to extrapolate."
   ]
  },
  {
   "cell_type": "code",
   "execution_count": 16,
   "metadata": {},
   "outputs": [],
   "source": [
    "tides['predict'] = fitter.predict(tides[vars])"
   ]
  },
  {
   "cell_type": "code",
   "execution_count": 17,
   "metadata": {},
   "outputs": [],
   "source": [
    "dtest = tides.loc[numpy.logical_not(tides['train']), :].copy()\n",
    "dtest.reset_index(inplace=True, drop=True)"
   ]
  },
  {
   "cell_type": "code",
   "execution_count": 18,
   "metadata": {},
   "outputs": [
    {
     "data": {
      "image/png": "[encoded data removed]",
      "text/plain": [
       "<Figure size 432x288 with 1 Axes>"
      ]
     },
     "metadata": {
      "needs_background": "light"
     },
     "output_type": "display_data"
    }
   ],
   "source": [
    "seaborn.lineplot(x='dt', y='tide feet', \n",
    "                 data=dtest)\n",
    "info = matplotlib.pylab.xticks(rotation=45)\n",
    "info = matplotlib.pyplot.title(\"test data\")"
   ]
  },
  {
   "cell_type": "code",
   "execution_count": 19,
   "metadata": {},
   "outputs": [
    {
     "data": {
      "image/png": "[encoded data removed]",
      "text/plain": [
       "<Figure size 432x288 with 1 Axes>"
      ]
     },
     "metadata": {
      "needs_background": "light"
     },
     "output_type": "display_data"
    }
   ],
   "source": [
    "seaborn.lineplot(x='dt', y='predict', \n",
    "                 data=dtest, color='black')\n",
    "info = matplotlib.pylab.xticks(rotation=45)\n",
    "info = matplotlib.pyplot.title(\"prediction in test region\")"
   ]
  },
  {
   "cell_type": "code",
   "execution_count": 20,
   "metadata": {},
   "outputs": [
    {
     "data": {
      "image/png": "[encoded data removed]",
      "text/plain": [
       "<Figure size 432x288 with 1 Axes>"
      ]
     },
     "metadata": {
      "needs_background": "light"
     },
     "output_type": "display_data"
    }
   ],
   "source": [
    "test_plot = tides.loc[numpy.logical_not(tides['train']), :]\n",
    "seaborn.lineplot(x='dt', y='predict', \n",
    "                 data=test_plot,\n",
    "                 color='black',\n",
    "                 alpha=0.5)\n",
    "seaborn.lineplot(x='dt', y='Preliminary (ft)', \n",
    "                 data=test_plot, \n",
    "                 color='blue',\n",
    "                 alpha=0.5)\n",
    "info = matplotlib.pylab.xticks(rotation=45)\n",
    "info = matplotlib.pyplot.title(\"prediction (black) superimposed on test data\")"
   ]
  },
  {
   "cell_type": "code",
   "execution_count": 21,
   "metadata": {},
   "outputs": [
    {
     "data": {
      "image/png": "[encoded data removed]",
      "text/plain": [
       "<Figure size 432x288 with 1 Axes>"
      ]
     },
     "metadata": {
      "needs_background": "light"
     },
     "output_type": "display_data"
    }
   ],
   "source": [
    "seaborn.scatterplot(x='predict', y='tide feet', \n",
    "                    data=dtest, \n",
    "                    alpha=0.5)\n",
    "info = matplotlib.pyplot.title(\"predictions on test data\")"
   ]
  },
  {
   "cell_type": "code",
   "execution_count": 22,
   "metadata": {},
   "outputs": [
    {
     "data": {
      "text/plain": [
       "0.9913854788234292"
      ]
     },
     "execution_count": 22,
     "metadata": {},
     "output_type": "execute_result"
    }
   ],
   "source": [
    "sklearn.metrics.r2_score(dtest['tide feet'], dtest['predict'])"
   ]
  },
  {
   "cell_type": "markdown",
   "metadata": {},
   "source": [
    "Now try to cross-validate for better regularization parameters."
   ]
  },
  {
   "cell_type": "code",
   "execution_count": 23,
   "metadata": {},
   "outputs": [
    {
     "name": "stdout",
     "output_type": "stream",
     "text": [
      "[1e-05, 0.0001, 0.001, 0.01, 0.1, 1, 10, 100, 1000, 10000]\n",
      "[0.   0.05 0.1  0.15 0.2  0.25 0.3  0.35 0.4  0.45 0.5  0.55 0.6  0.65\n",
      " 0.7  0.75 0.8  0.85 0.9  0.95]\n"
     ]
    },
    {
     "data": {
      "text/plain": [
       "{'alpha': 1e-05, 'l1_ratio': 0.0}"
      ]
     },
     "execution_count": 23,
     "metadata": {},
     "output_type": "execute_result"
    }
   ],
   "source": [
    "alphas = [ 10 ** k for k in range(-5, 5, 1) ]\n",
    "print(alphas)\n",
    "l1_ratios = numpy.arange(0, 1, 0.05)\n",
    "print(l1_ratios)\n",
    "grid = [ [ {\"alpha\": alpha, \"l1_ratio\": l1_ratio} for alpha in alphas ] for l1_ratio in l1_ratios ]\n",
    "grid = functools.reduce(operator.concat, grid)\n",
    "grid[0]"
   ]
  },
  {
   "cell_type": "code",
   "execution_count": 24,
   "metadata": {},
   "outputs": [],
   "source": [
    "def cross_predict_model(fitter, X, Y, plan):\n",
    "    preds = numpy.zeros(X.shape[0])\n",
    "    for g in range(len(plan)):\n",
    "        pi = plan[g]\n",
    "        model = fitter.fit(X.iloc[pi[\"train\"]], Y.iloc[pi[\"train\"]])\n",
    "        predg = model.predict(X.iloc[pi[\"app\"]])\n",
    "        preds[pi[\"app\"]] = predg\n",
    "    return preds\n",
    "\n",
    "def est_quality(settings, plan, dtrain, mvars, outcome='y'):\n",
    "    fitter = sklearn.linear_model.ElasticNet(alpha = settings[\"alpha\"], \n",
    "                                             l1_ratio = settings[\"l1_ratio\"], fit_intercept=True)\n",
    "    preds = cross_predict_model(fitter, dtrain[mvars], dtrain[outcome], plan)\n",
    "    mean_sq_error = numpy.mean((dtrain[outcome] - preds)**2)\n",
    "    return mean_sq_error"
   ]
  },
  {
   "cell_type": "code",
   "execution_count": 25,
   "metadata": {},
   "outputs": [],
   "source": [
    "fitter = sklearn.linear_model.ElasticNet(fit_intercept=True)\n",
    "cross_plan = vtreat.cross_plan.order_cross_plan(k_folds=5, order_vector=dtrain['dts'])"
   ]
  },
  {
   "cell_type": "code",
   "execution_count": null,
   "metadata": {},
   "outputs": [],
   "source": [
    "%%capture\n",
    "param_evals = [ {\"settings\" : settings, \"loss\" : est_quality(settings, cross_plan, dtrain, vars, 'tide feet')} for settings in grid ]"
   ]
  },
  {
   "cell_type": "code",
   "execution_count": null,
   "metadata": {},
   "outputs": [],
   "source": [
    "min_loss = numpy.min([ q[\"loss\"] for q in param_evals ])\n",
    "best_params = [ q for q in param_evals if q[\"loss\"] <= min_loss + 1e-9 ]\n",
    "best_params"
   ]
  },
  {
   "cell_type": "code",
   "execution_count": null,
   "metadata": {},
   "outputs": [],
   "source": [
    "settings = best_params[0][\"settings\"]\n",
    "fitter = sklearn.linear_model.ElasticNet(alpha = settings[\"alpha\"], \n",
    "                                         l1_ratio = settings[\"l1_ratio\"], \n",
    "                                         fit_intercept=True,\n",
    "                                         max_iter=1000)\n",
    "model = fitter.fit(dtrain[vars], dtrain['tide feet'])"
   ]
  },
  {
   "cell_type": "code",
   "execution_count": null,
   "metadata": {},
   "outputs": [],
   "source": [
    "dtest['pred2'] = fitter.predict(dtest[vars])"
   ]
  },
  {
   "cell_type": "code",
   "execution_count": null,
   "metadata": {},
   "outputs": [],
   "source": [
    "seaborn.scatterplot(x='pred2', y='tide feet', \n",
    "                    data=dtest, \n",
    "                    alpha=0.5)\n",
    "info = matplotlib.pyplot.title(\"pred2 on test data\")"
   ]
  },
  {
   "cell_type": "code",
   "execution_count": null,
   "metadata": {},
   "outputs": [],
   "source": [
    "sklearn.metrics.r2_score(dtest['tide feet'], dtest['pred2'])"
   ]
  },
  {
   "cell_type": "markdown",
   "metadata": {},
   "source": [
    "No real change in this case."
   ]
  }
 ],
 "metadata": {
  "kernelspec": {
   "display_name": "Python 3",
   "language": "python",
   "name": "python3"
  },
  "language_info": {
   "codemirror_mode": {
    "name": "ipython",
    "version": 3
   },
   "file_extension": ".py",
   "mimetype": "text/x-python",
   "name": "python",
   "nbconvert_exporter": "python",
   "pygments_lexer": "ipython3",
   "version": "3.7.3"
  }
 },
 "nbformat": 4,
 "nbformat_minor": 4
}
