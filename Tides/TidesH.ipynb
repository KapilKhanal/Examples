{
 "cells": [
  {
   "cell_type": "code",
   "execution_count": null,
   "metadata": {},
   "outputs": [],
   "source": []
  },
  {
   "cell_type": "markdown",
   "metadata": {},
   "source": [
    "Pre-stored harmonics to fit tide data."
   ]
  },
  {
   "cell_type": "markdown",
   "metadata": {},
   "source": [
    "Data from https://tidesandcurrents.noaa.gov/waterlevels.html?id=9414290&units=standard&bdate=20190701&edate=20190801&timezone=GMT&datum=MLLW&interval=6&action=data"
   ]
  },
  {
   "cell_type": "code",
   "execution_count": 1,
   "metadata": {},
   "outputs": [],
   "source": [
    "import math\n",
    "import datetime\n",
    "import pytz\n",
    "import glob\n",
    "import functools\n",
    "import operator\n",
    "import numpy\n",
    "import pandas\n",
    "import matplotlib.pyplot\n",
    "import matplotlib.pylab\n",
    "import seaborn\n",
    "import sklearn.linear_model\n",
    "import sklearn.metrics\n",
    "import vtreat.cross_plan\n",
    "\n",
    "from pandas.plotting import register_matplotlib_converters\n",
    "register_matplotlib_converters()"
   ]
  },
  {
   "cell_type": "code",
   "execution_count": 2,
   "metadata": {},
   "outputs": [
    {
     "data": {
      "text/html": [
       "<div>\n",
       "<style scoped>\n",
       "    .dataframe tbody tr th:only-of-type {\n",
       "        vertical-align: middle;\n",
       "    }\n",
       "\n",
       "    .dataframe tbody tr th {\n",
       "        vertical-align: top;\n",
       "    }\n",
       "\n",
       "    .dataframe thead th {\n",
       "        text-align: right;\n",
       "    }\n",
       "</style>\n",
       "<table border=\"1\" class=\"dataframe\">\n",
       "  <thead>\n",
       "    <tr style=\"text-align: right;\">\n",
       "      <th></th>\n",
       "      <th>name</th>\n",
       "      <th>sname</th>\n",
       "      <th>speed</th>\n",
       "      <th>code</th>\n",
       "      <th>i1</th>\n",
       "      <th>i2</th>\n",
       "      <th>i3</th>\n",
       "      <th>i4</th>\n",
       "      <th>i5</th>\n",
       "      <th>i6</th>\n",
       "      <th>phi</th>\n",
       "      <th>nodal</th>\n",
       "      <th>in_hc4</th>\n",
       "      <th>in_hc7</th>\n",
       "      <th>in_hc37</th>\n",
       "      <th>in_hc60</th>\n",
       "      <th>in_hc114</th>\n",
       "    </tr>\n",
       "  </thead>\n",
       "  <tbody>\n",
       "    <tr>\n",
       "      <th>0</th>\n",
       "      <td>aSa</td>\n",
       "      <td>aSa</td>\n",
       "      <td>0.041067</td>\n",
       "      <td>ZZAZZYZ</td>\n",
       "      <td>0</td>\n",
       "      <td>0</td>\n",
       "      <td>1</td>\n",
       "      <td>0</td>\n",
       "      <td>0</td>\n",
       "      <td>-1</td>\n",
       "      <td>0</td>\n",
       "      <td>z</td>\n",
       "      <td>False</td>\n",
       "      <td>False</td>\n",
       "      <td>False</td>\n",
       "      <td>False</td>\n",
       "      <td>False</td>\n",
       "    </tr>\n",
       "    <tr>\n",
       "      <th>1</th>\n",
       "      <td>Sa</td>\n",
       "      <td>Sa</td>\n",
       "      <td>0.041069</td>\n",
       "      <td>ZZAZZZZ</td>\n",
       "      <td>0</td>\n",
       "      <td>0</td>\n",
       "      <td>1</td>\n",
       "      <td>0</td>\n",
       "      <td>0</td>\n",
       "      <td>0</td>\n",
       "      <td>0</td>\n",
       "      <td>z</td>\n",
       "      <td>False</td>\n",
       "      <td>False</td>\n",
       "      <td>True</td>\n",
       "      <td>True</td>\n",
       "      <td>True</td>\n",
       "    </tr>\n",
       "    <tr>\n",
       "      <th>2</th>\n",
       "      <td>Ssa</td>\n",
       "      <td>Ssa</td>\n",
       "      <td>0.082137</td>\n",
       "      <td>ZZBZZZZ</td>\n",
       "      <td>0</td>\n",
       "      <td>0</td>\n",
       "      <td>2</td>\n",
       "      <td>0</td>\n",
       "      <td>0</td>\n",
       "      <td>0</td>\n",
       "      <td>0</td>\n",
       "      <td>z</td>\n",
       "      <td>False</td>\n",
       "      <td>False</td>\n",
       "      <td>True</td>\n",
       "      <td>True</td>\n",
       "      <td>True</td>\n",
       "    </tr>\n",
       "    <tr>\n",
       "      <th>3</th>\n",
       "      <td>Sta</td>\n",
       "      <td>Sta</td>\n",
       "      <td>0.123204</td>\n",
       "      <td>ZZCZZYY</td>\n",
       "      <td>0</td>\n",
       "      <td>0</td>\n",
       "      <td>3</td>\n",
       "      <td>0</td>\n",
       "      <td>0</td>\n",
       "      <td>-1</td>\n",
       "      <td>270</td>\n",
       "      <td>x</td>\n",
       "      <td>False</td>\n",
       "      <td>False</td>\n",
       "      <td>False</td>\n",
       "      <td>False</td>\n",
       "      <td>False</td>\n",
       "    </tr>\n",
       "    <tr>\n",
       "      <th>4</th>\n",
       "      <td>MSm</td>\n",
       "      <td>MSm</td>\n",
       "      <td>0.471521</td>\n",
       "      <td>ZAXAZZZ</td>\n",
       "      <td>0</td>\n",
       "      <td>1</td>\n",
       "      <td>-2</td>\n",
       "      <td>1</td>\n",
       "      <td>0</td>\n",
       "      <td>0</td>\n",
       "      <td>0</td>\n",
       "      <td>x</td>\n",
       "      <td>False</td>\n",
       "      <td>False</td>\n",
       "      <td>False</td>\n",
       "      <td>False</td>\n",
       "      <td>False</td>\n",
       "    </tr>\n",
       "  </tbody>\n",
       "</table>\n",
       "</div>"
      ],
      "text/plain": [
       "  name sname     speed     code  i1  i2  i3  i4  i5  i6  phi nodal  in_hc4  \\\n",
       "0  aSa   aSa  0.041067  ZZAZZYZ   0   0   1   0   0  -1    0     z   False   \n",
       "1   Sa    Sa  0.041069  ZZAZZZZ   0   0   1   0   0   0    0     z   False   \n",
       "2  Ssa   Ssa  0.082137  ZZBZZZZ   0   0   2   0   0   0    0     z   False   \n",
       "3  Sta   Sta  0.123204  ZZCZZYY   0   0   3   0   0  -1  270     x   False   \n",
       "4  MSm   MSm  0.471521  ZAXAZZZ   0   1  -2   1   0   0    0     x   False   \n",
       "\n",
       "   in_hc7  in_hc37  in_hc60  in_hc114  \n",
       "0   False    False    False     False  \n",
       "1   False     True     True      True  \n",
       "2   False     True     True      True  \n",
       "3   False    False    False     False  \n",
       "4   False    False    False     False  "
      ]
     },
     "execution_count": 2,
     "metadata": {},
     "output_type": "execute_result"
    }
   ],
   "source": [
    "harmonics = pandas.read_csv('harmonics.csv')\n",
    "harmonics.head()"
   ]
  },
  {
   "cell_type": "code",
   "execution_count": null,
   "metadata": {},
   "outputs": [],
   "source": [
    "date_fmt = '%Y/%m/%d %H:%M'\n",
    "tz = pytz.utc\n",
    "    \n",
    "def parse_date(dtstr):\n",
    "    d0 = datetime.datetime.strptime(dtstr, date_fmt)\n",
    "    return d0.replace(tzinfo=tz)\n",
    "\n",
    "base_date_time = datetime.datetime(2001, 1, 1, tzinfo=tz)\n",
    "first_date_time = datetime.datetime(2019, 6, 1, tzinfo=tz)\n",
    "cut_date_time = datetime.datetime(2019, 7, 15, tzinfo=tz)"
   ]
  },
  {
   "cell_type": "code",
   "execution_count": null,
   "metadata": {},
   "outputs": [],
   "source": [
    "print(\"TZ NAME: {tz}\".format(tz=base_date_time.tzname()))"
   ]
  },
  {
   "cell_type": "code",
   "execution_count": null,
   "metadata": {},
   "outputs": [],
   "source": [
    "d0 = parse_date('2001/01/01 00:00')\n",
    "(d0 - base_date_time).total_seconds()"
   ]
  },
  {
   "cell_type": "code",
   "execution_count": null,
   "metadata": {},
   "outputs": [],
   "source": [
    "print(\"TZ NAME: {tz}\".format(tz=d0.tzname()))"
   ]
  },
  {
   "cell_type": "code",
   "execution_count": null,
   "metadata": {},
   "outputs": [],
   "source": [
    "tides = pandas.read_pickle('tides.pickle.gz')"
   ]
  },
  {
   "cell_type": "code",
   "execution_count": null,
   "metadata": {},
   "outputs": [],
   "source": [
    "tides['train'] = tides['dt']<cut_date_time"
   ]
  },
  {
   "cell_type": "code",
   "execution_count": null,
   "metadata": {},
   "outputs": [],
   "source": [
    "tides.head()"
   ]
  },
  {
   "cell_type": "code",
   "execution_count": null,
   "metadata": {},
   "outputs": [],
   "source": [
    "tides = tides.loc[tides['dt']>=first_date_time, :]\n",
    "tides.reset_index(inplace=True, drop=True)"
   ]
  },
  {
   "cell_type": "code",
   "execution_count": null,
   "metadata": {},
   "outputs": [],
   "source": [
    "dtrain = tides.loc[tides['train'], :].copy()\n",
    "dtrain.reset_index(inplace=True, drop=True)"
   ]
  },
  {
   "cell_type": "code",
   "execution_count": null,
   "metadata": {},
   "outputs": [],
   "source": [
    "xform = numpy.fft.fft(dtrain['tide feet'])"
   ]
  },
  {
   "cell_type": "code",
   "execution_count": null,
   "metadata": {},
   "outputs": [],
   "source": [
    "cutoff = 10**math.floor(numpy.log(-numpy.sort(-abs(xform))[20])/numpy.log(10))\n",
    "cutoff"
   ]
  },
  {
   "cell_type": "code",
   "execution_count": null,
   "metadata": {},
   "outputs": [],
   "source": [
    "pick = abs(xform)>=cutoff\n",
    "sum(pick)"
   ]
  },
  {
   "cell_type": "code",
   "execution_count": null,
   "metadata": {},
   "outputs": [],
   "source": [
    "xform[numpy.logical_not(pick)] = 0j"
   ]
  },
  {
   "cell_type": "code",
   "execution_count": null,
   "metadata": {},
   "outputs": [],
   "source": [
    "back = numpy.real(numpy.fft.ifft(xform))"
   ]
  },
  {
   "cell_type": "code",
   "execution_count": null,
   "metadata": {},
   "outputs": [],
   "source": [
    "dtrain['fft approx'] = back"
   ]
  },
  {
   "cell_type": "code",
   "execution_count": null,
   "metadata": {},
   "outputs": [],
   "source": [
    "seaborn.scatterplot(x='fft approx', y='tide feet', \n",
    "                    data=dtrain, \n",
    "                    alpha=0.5)\n",
    "info = matplotlib.pyplot.title(\"fft approximation on training set\")"
   ]
  },
  {
   "cell_type": "code",
   "execution_count": null,
   "metadata": {},
   "outputs": [],
   "source": [
    "sklearn.metrics.r2_score(dtrain['tide feet'], dtrain['fft approx'])"
   ]
  },
  {
   "cell_type": "code",
   "execution_count": null,
   "metadata": {},
   "outputs": [],
   "source": [
    "# freqs are defined as cycles per sample spacing\n",
    "freqs = numpy.fft.fftfreq(dtrain.shape[0])\n",
    "freqs = numpy.sort(numpy.unique([abs(f) for f in freqs[pick]]))\n",
    "freqs = [f for f in freqs if f > 0]"
   ]
  },
  {
   "cell_type": "code",
   "execution_count": null,
   "metadata": {},
   "outputs": [],
   "source": [
    "sample_spacing_seconds = dtrain['dts'][1] - dtrain['dts'][0]"
   ]
  },
  {
   "cell_type": "code",
   "execution_count": null,
   "metadata": {},
   "outputs": [],
   "source": [
    "periods_seconds = [sample_spacing_seconds/f for f in freqs]"
   ]
  },
  {
   "cell_type": "code",
   "execution_count": null,
   "metadata": {},
   "outputs": [],
   "source": [
    "vars = []\n",
    "for ps in periods_seconds:\n",
    "    vs = 'sin(second/' + str(ps) + ')'\n",
    "    dtrain[vs] = numpy.sin(2*numpy.pi*dtrain['dts']/ps)\n",
    "    tides[vs] = numpy.sin(2*numpy.pi*tides['dts']/ps)\n",
    "    vc = 'cos(second/' + str(ps) + ')'\n",
    "    dtrain[vc] = numpy.cos(2*numpy.pi*dtrain['dts']/ps)\n",
    "    tides[vc] = numpy.cos(2*numpy.pi*tides['dts']/ps)\n",
    "    vars = vars + [vs, vc]\n",
    "    "
   ]
  },
  {
   "cell_type": "code",
   "execution_count": null,
   "metadata": {},
   "outputs": [],
   "source": [
    "fitter = sklearn.linear_model.ElasticNet(fit_intercept=True, \n",
    "                                         alpha = 1e-4,\n",
    "                                         max_iter=10000)\n",
    "fitter.fit(dtrain[vars], dtrain['tide feet'])\n",
    "#fitter.coef_"
   ]
  },
  {
   "cell_type": "code",
   "execution_count": null,
   "metadata": {},
   "outputs": [],
   "source": [
    "dtrain['predict'] = fitter.predict(dtrain[vars])"
   ]
  },
  {
   "cell_type": "code",
   "execution_count": null,
   "metadata": {},
   "outputs": [],
   "source": [
    "seaborn.scatterplot(x='predict', y='fft approx', \n",
    "                    data=dtrain, alpha=0.5)\n",
    "info = matplotlib.pyplot.title(\"linear model compared to fft approximation on training set\")"
   ]
  },
  {
   "cell_type": "markdown",
   "metadata": {},
   "source": [
    "Now try to extrapolate."
   ]
  },
  {
   "cell_type": "code",
   "execution_count": null,
   "metadata": {},
   "outputs": [],
   "source": [
    "tides['predict'] = fitter.predict(tides[vars])"
   ]
  },
  {
   "cell_type": "code",
   "execution_count": null,
   "metadata": {},
   "outputs": [],
   "source": [
    "dtest = tides.loc[numpy.logical_not(tides['train']), :].copy()\n",
    "dtest.reset_index(inplace=True, drop=True)"
   ]
  },
  {
   "cell_type": "code",
   "execution_count": null,
   "metadata": {},
   "outputs": [],
   "source": [
    "seaborn.lineplot(x='dt', y='tide feet', \n",
    "                 data=dtest)\n",
    "info = matplotlib.pylab.xticks(rotation=45)\n",
    "info = matplotlib.pyplot.title(\"test data\")"
   ]
  },
  {
   "cell_type": "code",
   "execution_count": null,
   "metadata": {},
   "outputs": [],
   "source": [
    "seaborn.lineplot(x='dt', y='predict', \n",
    "                 data=dtest, color='black')\n",
    "info = matplotlib.pylab.xticks(rotation=45)\n",
    "info = matplotlib.pyplot.title(\"prediction in test region\")"
   ]
  },
  {
   "cell_type": "code",
   "execution_count": null,
   "metadata": {},
   "outputs": [],
   "source": [
    "test_plot = tides.loc[numpy.logical_not(tides['train']), :]\n",
    "seaborn.lineplot(x='dt', y='predict', \n",
    "                 data=test_plot,\n",
    "                 color='black',\n",
    "                 alpha=0.5)\n",
    "seaborn.lineplot(x='dt', y='Preliminary (ft)', \n",
    "                 data=test_plot, \n",
    "                 color='blue',\n",
    "                 alpha=0.5)\n",
    "info = matplotlib.pylab.xticks(rotation=45)\n",
    "info = matplotlib.pyplot.title(\"prediction (black) superimposed on test data\")"
   ]
  },
  {
   "cell_type": "code",
   "execution_count": null,
   "metadata": {},
   "outputs": [],
   "source": [
    "seaborn.scatterplot(x='predict', y='tide feet', \n",
    "                    data=dtest, \n",
    "                    alpha=0.5)\n",
    "info = matplotlib.pyplot.title(\"predictions on test data\")"
   ]
  },
  {
   "cell_type": "code",
   "execution_count": null,
   "metadata": {},
   "outputs": [],
   "source": [
    "sklearn.metrics.r2_score(dtest['tide feet'], dtest['predict'])"
   ]
  },
  {
   "cell_type": "markdown",
   "metadata": {},
   "source": [
    "Now try to cross-validate for better regularization parameters."
   ]
  },
  {
   "cell_type": "code",
   "execution_count": null,
   "metadata": {},
   "outputs": [],
   "source": [
    "alphas = [ 10 ** k for k in range(-5, 5, 1) ]\n",
    "print(alphas)\n",
    "l1_ratios = numpy.arange(0, 1, 0.05)\n",
    "print(l1_ratios)\n",
    "grid = [ [ {\"alpha\": alpha, \"l1_ratio\": l1_ratio} for alpha in alphas ] for l1_ratio in l1_ratios ]\n",
    "grid = functools.reduce(operator.concat, grid)\n",
    "grid[0]"
   ]
  },
  {
   "cell_type": "code",
   "execution_count": null,
   "metadata": {},
   "outputs": [],
   "source": [
    "def cross_predict_model(fitter, X, Y, plan):\n",
    "    preds = numpy.zeros(X.shape[0])\n",
    "    for g in range(len(plan)):\n",
    "        pi = plan[g]\n",
    "        model = fitter.fit(X.iloc[pi[\"train\"]], Y.iloc[pi[\"train\"]])\n",
    "        predg = model.predict(X.iloc[pi[\"app\"]])\n",
    "        preds[pi[\"app\"]] = predg\n",
    "    return preds\n",
    "\n",
    "def est_quality(settings, plan, dtrain, mvars, outcome='y'):\n",
    "    fitter = sklearn.linear_model.ElasticNet(alpha = settings[\"alpha\"], \n",
    "                                             l1_ratio = settings[\"l1_ratio\"], fit_intercept=True)\n",
    "    preds = cross_predict_model(fitter, dtrain[mvars], dtrain[outcome], plan)\n",
    "    mean_sq_error = numpy.mean((dtrain[outcome] - preds)**2)\n",
    "    return mean_sq_error"
   ]
  },
  {
   "cell_type": "code",
   "execution_count": null,
   "metadata": {},
   "outputs": [],
   "source": [
    "fitter = sklearn.linear_model.ElasticNet(fit_intercept=True, \n",
    "                                         max_iter=10000)\n",
    "cross_plan = vtreat.cross_plan.order_cross_plan(k_folds=5, order_vector=dtrain['dts'])"
   ]
  },
  {
   "cell_type": "code",
   "execution_count": null,
   "metadata": {},
   "outputs": [],
   "source": [
    "%%capture\n",
    "param_evals = [ {\"settings\" : settings, \"loss\" : est_quality(settings, cross_plan, dtrain, vars, 'tide feet')} for settings in grid ]"
   ]
  },
  {
   "cell_type": "code",
   "execution_count": null,
   "metadata": {},
   "outputs": [],
   "source": [
    "min_loss = numpy.min([ q[\"loss\"] for q in param_evals ])\n",
    "best_params = [ q for q in param_evals if q[\"loss\"] <= min_loss + 1e-9 ]\n",
    "best_params"
   ]
  },
  {
   "cell_type": "code",
   "execution_count": null,
   "metadata": {},
   "outputs": [],
   "source": [
    "settings = best_params[0][\"settings\"]\n",
    "fitter = sklearn.linear_model.ElasticNet(alpha = settings[\"alpha\"], \n",
    "                                         l1_ratio = settings[\"l1_ratio\"], \n",
    "                                         fit_intercept=True,\n",
    "                                         max_iter=1000)\n",
    "model = fitter.fit(dtrain[vars], dtrain['tide feet'])"
   ]
  },
  {
   "cell_type": "code",
   "execution_count": null,
   "metadata": {},
   "outputs": [],
   "source": [
    "dtest['pred2'] = fitter.predict(dtest[vars])"
   ]
  },
  {
   "cell_type": "code",
   "execution_count": null,
   "metadata": {},
   "outputs": [],
   "source": [
    "seaborn.scatterplot(x='pred2', y='tide feet', \n",
    "                    data=dtest, \n",
    "                    alpha=0.5)\n",
    "info = matplotlib.pyplot.title(\"pred2 on test data\")"
   ]
  },
  {
   "cell_type": "code",
   "execution_count": null,
   "metadata": {},
   "outputs": [],
   "source": [
    "sklearn.metrics.r2_score(dtest['tide feet'], dtest['pred2'])"
   ]
  },
  {
   "cell_type": "markdown",
   "metadata": {},
   "source": [
    "No real change in this case."
   ]
  }
 ],
 "metadata": {
  "kernelspec": {
   "display_name": "Python 3",
   "language": "python",
   "name": "python3"
  },
  "language_info": {
   "codemirror_mode": {
    "name": "ipython",
    "version": 3
   },
   "file_extension": ".py",
   "mimetype": "text/x-python",
   "name": "python",
   "nbconvert_exporter": "python",
   "pygments_lexer": "ipython3",
   "version": "3.7.3"
  }
 },
 "nbformat": 4,
 "nbformat_minor": 4
}
