{
 "cells": [
  {
   "cell_type": "markdown",
   "metadata": {},
   "source": [
    "**Python Data Science Tip: Don't use Default Cross Validation Settings**\n",
    "\n",
    "Here is a quick, simple, and important tip for doing machine learning, data science, or statistics in Python: don't use the default cross validation settings. The default can default to a deterministic, and even ordered split, which is not in general what one wants or expects from a statistical point of view.  From a software engineering point of view the defaults may be sensible as since they don't touch the pseudo-random number generator they are repeatable, deterministic, and side-effect free.\n",
    "\n",
    "This issue falls under \"read the manual\", but it is always frustrating when the defaults are not sufficiently generous.\n",
    "\n",
    "To see what is going on, let's work an example.\n",
    "\n",
    "\n",
    "First we import our packages/modules."
   ]
  },
  {
   "cell_type": "code",
   "execution_count": 1,
   "metadata": {},
   "outputs": [
    {
     "data": {
      "text/plain": [
       "'0.21.3'"
      ]
     },
     "execution_count": 1,
     "metadata": {},
     "output_type": "execute_result"
    }
   ],
   "source": [
    "import pandas\n",
    "import numpy\n",
    "import sklearn\n",
    "import sklearn.model_selection\n",
    "from sklearn.base import BaseEstimator, TransformerMixin\n",
    "\n",
    "sklearn.__version__"
   ]
  },
  {
   "cell_type": "markdown",
   "metadata": {},
   "source": [
    "Now let's set up some simple example data."
   ]
  },
  {
   "cell_type": "code",
   "execution_count": 2,
   "metadata": {},
   "outputs": [
    {
     "data": {
      "text/html": [
       "<div>\n",
       "<style scoped>\n",
       "    .dataframe tbody tr th:only-of-type {\n",
       "        vertical-align: middle;\n",
       "    }\n",
       "\n",
       "    .dataframe tbody tr th {\n",
       "        vertical-align: top;\n",
       "    }\n",
       "\n",
       "    .dataframe thead th {\n",
       "        text-align: right;\n",
       "    }\n",
       "</style>\n",
       "<table border=\"1\" class=\"dataframe\">\n",
       "  <thead>\n",
       "    <tr style=\"text-align: right;\">\n",
       "      <th></th>\n",
       "      <th>const</th>\n",
       "      <th>r1</th>\n",
       "      <th>row_id</th>\n",
       "    </tr>\n",
       "  </thead>\n",
       "  <tbody>\n",
       "    <tr>\n",
       "      <th>0</th>\n",
       "      <td>a</td>\n",
       "      <td>0.231771</td>\n",
       "      <td>0</td>\n",
       "    </tr>\n",
       "    <tr>\n",
       "      <th>1</th>\n",
       "      <td>a</td>\n",
       "      <td>-0.643458</td>\n",
       "      <td>1</td>\n",
       "    </tr>\n",
       "    <tr>\n",
       "      <th>2</th>\n",
       "      <td>a</td>\n",
       "      <td>-0.814504</td>\n",
       "      <td>2</td>\n",
       "    </tr>\n",
       "    <tr>\n",
       "      <th>3</th>\n",
       "      <td>a</td>\n",
       "      <td>-1.346967</td>\n",
       "      <td>3</td>\n",
       "    </tr>\n",
       "    <tr>\n",
       "      <th>4</th>\n",
       "      <td>a</td>\n",
       "      <td>2.123949</td>\n",
       "      <td>4</td>\n",
       "    </tr>\n",
       "    <tr>\n",
       "      <th>5</th>\n",
       "      <td>a</td>\n",
       "      <td>-1.543649</td>\n",
       "      <td>5</td>\n",
       "    </tr>\n",
       "    <tr>\n",
       "      <th>6</th>\n",
       "      <td>a</td>\n",
       "      <td>0.427300</td>\n",
       "      <td>6</td>\n",
       "    </tr>\n",
       "    <tr>\n",
       "      <th>7</th>\n",
       "      <td>a</td>\n",
       "      <td>0.376089</td>\n",
       "      <td>7</td>\n",
       "    </tr>\n",
       "    <tr>\n",
       "      <th>8</th>\n",
       "      <td>a</td>\n",
       "      <td>0.562063</td>\n",
       "      <td>8</td>\n",
       "    </tr>\n",
       "    <tr>\n",
       "      <th>9</th>\n",
       "      <td>a</td>\n",
       "      <td>0.503133</td>\n",
       "      <td>9</td>\n",
       "    </tr>\n",
       "    <tr>\n",
       "      <th>10</th>\n",
       "      <td>a</td>\n",
       "      <td>-0.693433</td>\n",
       "      <td>10</td>\n",
       "    </tr>\n",
       "    <tr>\n",
       "      <th>11</th>\n",
       "      <td>a</td>\n",
       "      <td>1.035914</td>\n",
       "      <td>11</td>\n",
       "    </tr>\n",
       "    <tr>\n",
       "      <th>12</th>\n",
       "      <td>a</td>\n",
       "      <td>1.054931</td>\n",
       "      <td>12</td>\n",
       "    </tr>\n",
       "    <tr>\n",
       "      <th>13</th>\n",
       "      <td>a</td>\n",
       "      <td>-0.193353</td>\n",
       "      <td>13</td>\n",
       "    </tr>\n",
       "    <tr>\n",
       "      <th>14</th>\n",
       "      <td>a</td>\n",
       "      <td>-0.145543</td>\n",
       "      <td>14</td>\n",
       "    </tr>\n",
       "  </tbody>\n",
       "</table>\n",
       "</div>"
      ],
      "text/plain": [
       "   const        r1  row_id\n",
       "0      a  0.231771       0\n",
       "1      a -0.643458       1\n",
       "2      a -0.814504       2\n",
       "3      a -1.346967       3\n",
       "4      a  2.123949       4\n",
       "5      a -1.543649       5\n",
       "6      a  0.427300       6\n",
       "7      a  0.376089       7\n",
       "8      a  0.562063       8\n",
       "9      a  0.503133       9\n",
       "10     a -0.693433      10\n",
       "11     a  1.035914      11\n",
       "12     a  1.054931      12\n",
       "13     a -0.193353      13\n",
       "14     a -0.145543      14"
      ]
     },
     "execution_count": 2,
     "metadata": {},
     "output_type": "execute_result"
    }
   ],
   "source": [
    "nrow = 15\n",
    "cv = 3\n",
    "d = pandas.DataFrame({\n",
    "    'const': ['a'] * nrow,\n",
    "    'r1': numpy.random.normal(size=nrow),\n",
    "    'row_id': range(nrow)\n",
    "})\n",
    "y = [2**i for i in range(nrow)]\n",
    "\n",
    "d"
   ]
  },
  {
   "cell_type": "markdown",
   "metadata": {},
   "source": [
    "We now use `sklearn.model_selection.cross_val_predict` to land some derived columns.  In this case we are going to land the global average the outcome `y` as our estimate."
   ]
  },
  {
   "cell_type": "code",
   "execution_count": 3,
   "metadata": {},
   "outputs": [
    {
     "data": {
      "text/plain": [
       "array([3273.6, 3273.6, 3273.6, 3273.6, 3273.6, 3177.5, 3177.5, 3177.5,\n",
       "       3177.5, 3177.5,  102.3,  102.3,  102.3,  102.3,  102.3])"
      ]
     },
     "execution_count": 3,
     "metadata": {},
     "output_type": "execute_result"
    }
   ],
   "source": [
    "class CopyYMeanTransform(BaseEstimator, TransformerMixin):\n",
    "    def __init__(self):\n",
    "        self.est = 0\n",
    "        BaseEstimator.__init__(self)\n",
    "        TransformerMixin.__init__(self)\n",
    "\n",
    "    def fit(self, X, y):\n",
    "        self.est = numpy.mean(y)\n",
    "        return self\n",
    "\n",
    "    def transform(self, X):\n",
    "        return [self.est] * X.shape[0]\n",
    "\n",
    "    def fit_transform(self, X, y):\n",
    "        self.fit(X, y)\n",
    "        return self.transform(X)\n",
    "\n",
    "    def predict(self, X):\n",
    "        return self.transform(X)\n",
    "\n",
    "    def fit_predict(self, X, y):\n",
    "        return self.fit_transform(X, y)\n",
    "\n",
    "ests = sklearn.model_selection.cross_val_predict(CopyYMeanTransform(), d, y, cv=cv)\n",
    "\n",
    "ests"
   ]
  },
  {
   "cell_type": "markdown",
   "metadata": {},
   "source": [
    "In the result we notice two things:\n",
    "    \n",
    "  * The estimate global average varies, it is not a constant.  This is a very important feature of cross validated methods, and something I intend to write more on later.\n",
    "  * The results seem to be in orderly blocks.  This is implied by the help, but not what one wants or expects in cross validated work.  Structure in the input data may survive the block structure of this cross validation and spoil results.\n",
    "    \n",
    "Let's re-encode the output to see what is going on.  We deliberately chose the `y` values to be powers of 2 so `v*(nrow-nrow/cv)` should give us the exact rows used in each calculation as bit positions.  We can view this as follows."
   ]
  },
  {
   "cell_type": "code",
   "execution_count": 4,
   "metadata": {},
   "outputs": [
    {
     "data": {
      "text/plain": [
       "['0b111111111100000',\n",
       " '0b111111111100000',\n",
       " '0b111111111100000',\n",
       " '0b111111111100000',\n",
       " '0b111111111100000',\n",
       " '0b111110000011111',\n",
       " '0b111110000011111',\n",
       " '0b111110000011111',\n",
       " '0b111110000011111',\n",
       " '0b111110000011111',\n",
       " '0b000001111111111',\n",
       " '0b000001111111111',\n",
       " '0b000001111111111',\n",
       " '0b000001111111111',\n",
       " '0b000001111111111']"
      ]
     },
     "execution_count": 4,
     "metadata": {},
     "output_type": "execute_result"
    }
   ],
   "source": [
    "[format(int(v*(nrow-nrow/cv)), '#0' + str(nrow+2) + 'b') for v in ests]"
   ]
  },
  {
   "cell_type": "markdown",
   "metadata": {},
   "source": [
    "The first row indicates it was derived from all rows except the first 5 (as the 5 lowest bit positions are zero).  In fact the first five rows are all calculated in this manner.  So we have 3-way cross validation (each row is calculated using 2/3rds of the data), but in consecutive blocks.\n",
    "\n",
    "This happens because [`sklearn.model_selection.cross_val_predict`](https://scikit-learn.org/stable/modules/generated/sklearn.model_selection.cross_val_predict.html) defaults to using one of [`klearn.model_selection.KFold.html`](https://scikit-learn.org/stable/modules/generated/sklearn.model_selection.KFold.html#sklearn.model_selection.KFold) [`sklearn.model_selection.StratifiedKFold`](https://scikit-learn.org/stable/modules/generated/sklearn.model_selection.StratifiedKFold.html#sklearn.model_selection.StratifiedKFold). These in turn both default to `shuffle=False`, which explains the observed behavior.\n",
    "\n",
    "This is \"as expected\" in the sense it is clearly documented.  It is however, not how a statistician would expect k-fold cross validation to work for a small k.\n",
    "\n",
    "The solution is, as documented, avoid the default by explicitly setting the cross validation strategy.  We demonstrate this here."
   ]
  },
  {
   "cell_type": "code",
   "execution_count": 5,
   "metadata": {},
   "outputs": [
    {
     "data": {
      "text/plain": [
       "['0b111111101110000',\n",
       " '0b111111101110000',\n",
       " '0b111111101110000',\n",
       " '0b111111101110000',\n",
       " '0b111010010101111',\n",
       " '0b000101111011111',\n",
       " '0b111010010101111',\n",
       " '0b111111101110000',\n",
       " '0b111010010101111',\n",
       " '0b111010010101111',\n",
       " '0b000101111011111',\n",
       " '0b111010010101111',\n",
       " '0b000101111011111',\n",
       " '0b000101111011111',\n",
       " '0b000101111011111']"
      ]
     },
     "execution_count": 5,
     "metadata": {},
     "output_type": "execute_result"
    }
   ],
   "source": [
    "cvstrat = sklearn.model_selection.KFold(shuffle=True, n_splits=3)\n",
    "ests = sklearn.model_selection.cross_val_predict(CopyYMeanTransform(), d, y, cv=cvstrat)\n",
    "\n",
    "[format(int(v*(nrow-nrow/cv)), '#0' + str(nrow+2) + 'b') for v in ests]"
   ]
  },
  {
   "cell_type": "markdown",
   "metadata": {},
   "source": [
    "This is still a 3-fold cross validation strategy as there are only 3 distinct calculations made.  However the arrangement is now random subject to the important constraint that the `i`-th row is not in input to the `i`-th result.\n",
    "\n",
    "We can also confirm that the shuffle option suffles the cross-validation plan, and not the data set rows."
   ]
  },
  {
   "cell_type": "code",
   "execution_count": 6,
   "metadata": {},
   "outputs": [
    {
     "data": {
      "text/plain": [
       "array([['a', 0.2317708416646105, 0],\n",
       "       ['a', -0.6434576761630608, 1],\n",
       "       ['a', -0.8145042224405192, 2],\n",
       "       ['a', -1.346967064864293, 3],\n",
       "       ['a', 2.1239493751828085, 4],\n",
       "       ['a', -1.543648551466407, 5],\n",
       "       ['a', 0.42730030589837925, 6],\n",
       "       ['a', 0.37608917089238997, 7],\n",
       "       ['a', 0.5620629364384716, 8],\n",
       "       ['a', 0.5031329594694133, 9],\n",
       "       ['a', -0.6934327743260298, 10],\n",
       "       ['a', 1.0359136201260202, 11],\n",
       "       ['a', 1.0549306824041969, 12],\n",
       "       ['a', -0.19335275803764576, 13],\n",
       "       ['a', -0.14554310090071113, 14]], dtype=object)"
      ]
     },
     "execution_count": 6,
     "metadata": {},
     "output_type": "execute_result"
    }
   ],
   "source": [
    "class CopyXTransform(BaseEstimator, TransformerMixin):\n",
    "    def __init__(self):\n",
    "        BaseEstimator.__init__(self)\n",
    "        TransformerMixin.__init__(self)\n",
    "\n",
    "    def fit(self, X, y):\n",
    "        return self\n",
    "\n",
    "    def transform(self, X):\n",
    "        return X.copy()\n",
    "\n",
    "    def fit_transform(self, X, y):\n",
    "        self.fit(X, y)\n",
    "        return self.transform(X)\n",
    "\n",
    "    def predict(self, X):\n",
    "        return self.transform(X)\n",
    "\n",
    "    def fit_predict(self, X, y):\n",
    "        return self.fit_transform(X, y)\n",
    "\n",
    "sklearn.model_selection.cross_val_predict(CopyXTransform(), d, y, cv=cvstrat)"
   ]
  },
  {
   "cell_type": "markdown",
   "metadata": {},
   "source": [
    "The `CopyXTransform` copied out the input data in its original order, confirming shuffle shuffles the plan not the data rows.\n",
    "\n",
    "And that concludes our tip: don't use default cross validation settings."
   ]
  },
  {
   "cell_type": "code",
   "execution_count": null,
   "metadata": {},
   "outputs": [],
   "source": []
  }
 ],
 "metadata": {
  "kernelspec": {
   "display_name": "Python 3",
   "language": "python",
   "name": "python3"
  },
  "language_info": {
   "codemirror_mode": {
    "name": "ipython",
    "version": 3
   },
   "file_extension": ".py",
   "mimetype": "text/x-python",
   "name": "python",
   "nbconvert_exporter": "python",
   "pygments_lexer": "ipython3",
   "version": "3.7.5"
  }
 },
 "nbformat": 4,
 "nbformat_minor": 4
}
